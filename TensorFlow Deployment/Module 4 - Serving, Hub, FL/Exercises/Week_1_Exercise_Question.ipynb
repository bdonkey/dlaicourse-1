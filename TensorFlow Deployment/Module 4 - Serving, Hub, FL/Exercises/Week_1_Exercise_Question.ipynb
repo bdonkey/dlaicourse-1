{
  "nbformat": 4,
  "nbformat_minor": 0,
  "metadata": {
    "accelerator": "GPU",
    "colab": {
      "name": "Week 1 Exercise Question.ipynb",
      "provenance": [],
      "private_outputs": true,
      "collapsed_sections": [],
      "toc_visible": true
    },
    "kernelspec": {
      "display_name": "Python 2",
      "name": "python2"
    }
  },
  "cells": [
    {
      "cell_type": "code",
      "metadata": {
        "colab_type": "code",
        "id": "dzLKpmZICaWN",
        "colab": {}
      },
      "source": [
        "# TensorFlow and tf.keras\n",
        "import tensorflow as tf\n",
        "from tensorflow import keras\n",
        "\n",
        "# Helper libraries\n",
        "import numpy as np\n",
        "import matplotlib.pyplot as plt\n",
        "import os\n",
        "import subprocess\n",
        "\n",
        "print(tf.__version__)"
      ],
      "execution_count": 0,
      "outputs": []
    },
    {
      "cell_type": "code",
      "metadata": {
        "colab_type": "code",
        "id": "7MqDQO0KCaWS",
        "colab": {}
      },
      "source": [
        "mnist = # YOUR CODE HERE\n",
        "(train_images, train_labels), (test_images, test_labels) = # YOUR CODE HERE\n",
        "\n",
        "# scale the values to 0.0 to 1.0\n",
        "train_images = # YOUR CODE HERE\n",
        "test_images = # YOUR CODE HERE\n",
        "\n",
        "# reshape for feeding into the model\n",
        "train_images = # YOUR CODE HERE\n",
        "test_images = # YOUR CODE HERE\n",
        "\n"
      ],
      "execution_count": 0,
      "outputs": []
    },
    {
      "cell_type": "code",
      "metadata": {
        "id": "aUw8ZxigB1Nx",
        "colab_type": "code",
        "colab": {}
      },
      "source": [
        "print('\\ntrain_images.shape: {}, of {}'.format(train_images.shape, train_images.dtype))\n",
        "print('test_images.shape: {}, of {}'.format(test_images.shape, test_images.dtype))\n",
        "\n",
        "# EXPECTED OUTPUT\n",
        "# train_images.shape: (60000, 28, 28, 1), of float64\n",
        "# test_images.shape: (10000, 28, 28, 1), of float64"
      ],
      "execution_count": 0,
      "outputs": []
    },
    {
      "cell_type": "code",
      "metadata": {
        "colab_type": "code",
        "id": "LTNN0ANGgA36",
        "colab": {}
      },
      "source": [
        "model = keras.Sequential([\n",
        "# YOUR CODE HERE\n",
        "])\n",
        "model.summary()\n",
        "\n",
        "testing = False\n",
        "epochs = 5\n",
        "\n",
        "model.compile(# YOUR CODE HERE)\n",
        "model.fit(# YOUR CODE HERE)\n",
        "\n",
        "test_loss, test_acc = model.evaluate(# YOUR CODE HERE)\n",
        "print('\\nTest accuracy: {}'.format(test_acc))"
      ],
      "execution_count": 0,
      "outputs": []
    },
    {
      "cell_type": "code",
      "metadata": {
        "colab_type": "code",
        "id": "0w5Rq8SsgWE6",
        "colab": {}
      },
      "source": [
        "# Fetch the Keras session and save the model\n",
        "# The signature definition is defined by the input and output tensors,\n",
        "# and stored with the default serving key\n",
        "import tempfile\n",
        "\n",
        "MODEL_DIR = tempfile.gettempdir()\n",
        "version = 1\n",
        "export_path = os.path.join(MODEL_DIR, str(version))\n",
        "print('export_path = {}\\n'.format(export_path))\n",
        "if os.path.isdir(export_path):\n",
        "  print('\\nAlready saved a model, cleaning up\\n')\n",
        "  !rm -r {export_path}\n",
        "\n",
        "tf.saved_model.simple_save(\n",
        "    keras.backend.get_session(),\n",
        "    export_path,\n",
        "    inputs={'input_image': model.input},\n",
        "    outputs={t.name:t for t in model.outputs})\n",
        "\n",
        "print('\\nSaved model:')\n",
        "!ls -l {export_path}"
      ],
      "execution_count": 0,
      "outputs": []
    },
    {
      "cell_type": "code",
      "metadata": {
        "colab_type": "code",
        "id": "LU4GDF_aYtfQ",
        "colab": {}
      },
      "source": [
        "!saved_model_cli show --dir {export_path} --all\n",
        "\n",
        "# EXPECTED OUTPUT\n",
        "# MetaGraphDef with tag-set: 'serve' contains the following SignatureDefs:\n",
        "#\n",
        "# signature_def['serving_default']:\n",
        "#   The given SavedModel SignatureDef contains the following input(s):\n",
        "#     inputs['input_image'] tensor_info:\n",
        "#        dtype: DT_FLOAT\n",
        "#        shape: (-1, 28, 28, 1)\n",
        "#        name: Conv1_input:0\n",
        "#  The given SavedModel SignatureDef contains the following output(s):\n",
        "#    outputs['Softmax/Softmax:0'] tensor_info:\n",
        "#        dtype: DT_FLOAT\n",
        "#        shape: (-1, 10)\n",
        "#        name: Softmax/Softmax:0\n",
        "#  Method name is: tensorflow/serving/predict"
      ],
      "execution_count": 0,
      "outputs": []
    },
    {
      "cell_type": "code",
      "metadata": {
        "colab_type": "code",
        "id": "EWg9X2QHlbGS",
        "colab": {}
      },
      "source": [
        "# This is the same as you would do from your command line, but without the [arch=amd64], and no sudo\n",
        "# You would instead do:\n",
        "# echo \"deb [arch=amd64] http://storage.googleapis.com/tensorflow-serving-apt stable tensorflow-model-server tensorflow-model-server-universal\" | sudo tee /etc/apt/sources.list.d/tensorflow-serving.list && \\\n",
        "# curl https://storage.googleapis.com/tensorflow-serving-apt/tensorflow-serving.release.pub.gpg | sudo apt-key add -\n",
        "\n",
        "!echo \"deb http://storage.googleapis.com/tensorflow-serving-apt stable tensorflow-model-server tensorflow-model-server-universal\" | tee /etc/apt/sources.list.d/tensorflow-serving.list && \\\n",
        "curl https://storage.googleapis.com/tensorflow-serving-apt/tensorflow-serving.release.pub.gpg | apt-key add -\n",
        "!apt update"
      ],
      "execution_count": 0,
      "outputs": []
    },
    {
      "cell_type": "code",
      "metadata": {
        "colab_type": "code",
        "id": "ygwa9AgRloYy",
        "colab": {}
      },
      "source": [
        "!apt-get install tensorflow-model-server"
      ],
      "execution_count": 0,
      "outputs": []
    },
    {
      "cell_type": "code",
      "metadata": {
        "colab_type": "code",
        "id": "aUgp3vUdU5GS",
        "colab": {}
      },
      "source": [
        "os.environ[\"MODEL_DIR\"] = MODEL_DIR"
      ],
      "execution_count": 0,
      "outputs": []
    },
    {
      "cell_type": "code",
      "metadata": {
        "colab_type": "code",
        "id": "kJDhHNJVnaLN",
        "colab": {}
      },
      "source": [
        "%%bash --bg \n",
        "nohup tensorflow_model_server \\\n",
        "  --rest_api_port=# YOUR CODE HERE \\\n",
        "  --model_name=# YOUR CODE HERE \\\n",
        "  --model_base_path=# YOUR CODE HERE\n",
        "# Expected output\n",
        "# Starting job # 0 in a separate thread."
      ],
      "execution_count": 0,
      "outputs": []
    },
    {
      "cell_type": "code",
      "metadata": {
        "colab_type": "code",
        "id": "IxbeiOCUUs2z",
        "colab": {}
      },
      "source": [
        "!tail server.log"
      ],
      "execution_count": 0,
      "outputs": []
    },
    {
      "cell_type": "code",
      "metadata": {
        "colab_type": "code",
        "id": "Luqm_Jyff9iR",
        "colab": {}
      },
      "source": [
        "def show(idx, title):\n",
        "  plt.figure()\n",
        "  plt.imshow(test_images[idx].reshape(28,28))\n",
        "  plt.axis('off')\n",
        "  plt.title('\\n\\n{}'.format(title), fontdict={'size': 16})\n",
        "\n",
        "test_image = 42\n",
        "\n",
        "\n",
        "show(test_image, 'An Example Image: {}'.format(test_labels[test_image]))\n",
        "\n",
        "# EXPECTED OUTPUT\n",
        "# An example Image: 4, and a plot of the number 4"
      ],
      "execution_count": 0,
      "outputs": []
    },
    {
      "cell_type": "code",
      "metadata": {
        "colab_type": "code",
        "id": "2dsD7KQG1m-R",
        "colab": {}
      },
      "source": [
        "import json\n",
        "data = json.dumps(# YOUR CODE HERE)\n",
        "print('Data: {} ... {}'.format(data[:50], data[len(data)-52:]))\n",
        "print(data)"
      ],
      "execution_count": 0,
      "outputs": []
    },
    {
      "cell_type": "code",
      "metadata": {
        "colab_type": "code",
        "id": "vGvFyuIzW6n6",
        "colab": {}
      },
      "source": [
        "!pip install -q requests\n",
        "\n",
        "import requests\n",
        "headers = {\"content-type\": \"application/json\"}\n",
        "json_response = requests.post('http://localhost:8501/v1/models/digits_model:predict', data=data, headers=headers)\n",
        "predictions = json.loads(json_response.text)['predictions']\n",
        "\n",
        "print(predictions)\n",
        "\n",
        "show(0, 'The model thought this was a {} (class {}), and it was actually a {} (class {})'.format(\n",
        "  # YOUR CODE HERE))\n",
        "\n",
        "# EXPECTED OUTPUT\n",
        "# [[2.68937868e-07, 6.87597923e-10, 1.2811563e-06, 9.07639405e-05, 4.35213154e-09, 1.56858093e-09, 6.00412569e-13, 0.999889, 2.59646663e-06, 1.61339703e-05], [2.23855227e-06, 5.49161132e-06, 0.999600112, 2.19848971e-06, 1.30025773e-11, 1.28111242e-06, 0.000387982698, 1.64094575e-14, 6.61974241e-07, 7.12327549e-12], [4.6440724e-05, 0.996990204, 0.000780542672, 8.95627818e-05, 0.0008044485, 5.88553521e-05, 0.000464979181, 0.000534292951, 0.000190246137, 4.04530474e-05]]\n",
        "#\n",
        "# The model thought this was a 7 (class 7), and it was actually a 7 (class 7)\n",
        "# An image plot of  number 7"
      ],
      "execution_count": 0,
      "outputs": []
    }
  ]
}